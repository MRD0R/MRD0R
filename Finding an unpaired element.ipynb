{
 "cells": [
  {
   "cell_type": "code",
   "execution_count": 5,
   "metadata": {},
   "outputs": [
    {
     "name": "stdout",
     "output_type": "stream",
     "text": [
      "7\n"
     ]
    }
   ],
   "source": [
    "def solution(A):     \n",
    "    if len(A) == 1:\n",
    "         return A[0]\n",
    "    A = sorted(A)\n",
    "    for i in range(0 , len (A) , 2):\n",
    "         if A[i] != A[i+1]:\n",
    "             return A[i]\n",
    "B = [9 , 3 , 9 , 3 , 9 , 7 , 9]\n",
    "print(solution(B))"
   ]
  }
 ],
 "metadata": {
  "kernelspec": {
   "display_name": "Python 3",
   "language": "python",
   "name": "python3"
  },
  "language_info": {
   "codemirror_mode": {
    "name": "ipython",
    "version": 3
   },
   "file_extension": ".py",
   "mimetype": "text/x-python",
   "name": "python",
   "nbconvert_exporter": "python",
   "pygments_lexer": "ipython3",
   "version": "3.8.5"
  }
 },
 "nbformat": 4,
 "nbformat_minor": 4
}
