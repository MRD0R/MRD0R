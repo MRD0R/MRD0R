{
 "cells": [
  {
   "cell_type": "markdown",
   "metadata": {},
   "source": [
    " # Задача 1"
   ]
  },
  {
   "cell_type": "code",
   "execution_count": 17,
   "metadata": {},
   "outputs": [],
   "source": [
    "import numpy as np\n",
    "def solution(A):\n",
    "    cnt = 0\n",
    "    for i in range(0, len(A)):\n",
    "        for j in range (i+1, len(A)):\n",
    "            if(A[i] + i >= j - A[j]):\n",
    "                cnt+=1\n",
    "    if (cnt>100000):\n",
    "        return -1\n",
    "    return cnt"
   ]
  },
  {
   "cell_type": "code",
   "execution_count": 19,
   "metadata": {},
   "outputs": [
    {
     "data": {
      "text/plain": [
       "11"
      ]
     },
     "execution_count": 19,
     "metadata": {},
     "output_type": "execute_result"
    }
   ],
   "source": [
    "N = 6\n",
    "A = [1,5,2,1,4,0]\n",
    "solution(A)"
   ]
  },
  {
   "cell_type": "markdown",
   "metadata": {},
   "source": [
    "# Задача 2"
   ]
  },
  {
   "cell_type": "code",
   "execution_count": 12,
   "metadata": {},
   "outputs": [],
   "source": [
    "def solution(A,N):\n",
    "    answer = A[0]\n",
    "    index = 0\n",
    "    for i in range(1,N):\n",
    "        answer ^= A[i]\n",
    "    return answer"
   ]
  },
  {
   "cell_type": "code",
   "execution_count": 13,
   "metadata": {},
   "outputs": [
    {
     "data": {
      "text/plain": [
       "7"
      ]
     },
     "execution_count": 13,
     "metadata": {},
     "output_type": "execute_result"
    }
   ],
   "source": [
    "B = [9,3,9,3,9,7,9]\n",
    "solution(B,len(B))"
   ]
  },
  {
   "cell_type": "markdown",
   "metadata": {},
   "source": [
    "# Задача 3"
   ]
  },
  {
   "cell_type": "code",
   "execution_count": 21,
   "metadata": {},
   "outputs": [],
   "source": [
    "def solution(a,b,n):\n",
    "    array = np.stack((a,b),axis=1)\n",
    "    alive = n\n",
    "    stack = []\n",
    "    for i in range (n):\n",
    "        if (array[i][1] == 1):\n",
    "            stack.append(array[i][0])\n",
    "        else:\n",
    "            while len(stack):\n",
    "                if (stack[-1]>array[i][0]):\n",
    "                    alive -= 1\n",
    "                    #print('alive ',stack[-1])\n",
    "                    break\n",
    "                if(stack[-1]< array[i][0]):\n",
    "                    alive -= 1\n",
    "                    #print('alive ',array[i][0])\n",
    "                    stack.pop()\n",
    "    return alive"
   ]
  },
  {
   "cell_type": "code",
   "execution_count": 22,
   "metadata": {},
   "outputs": [
    {
     "data": {
      "text/plain": [
       "2"
      ]
     },
     "execution_count": 22,
     "metadata": {},
     "output_type": "execute_result"
    }
   ],
   "source": [
    "a=np.array([4,3,2,1,5])\n",
    "b=np.array([0,1,0,0,0])\n",
    "solution(a,b,len(a))"
   ]
  },
  {
   "cell_type": "code",
   "execution_count": null,
   "metadata": {},
   "outputs": [],
   "source": []
  }
 ],
 "metadata": {
  "kernelspec": {
   "display_name": "Python 3",
   "language": "python",
   "name": "python3"
  },
  "language_info": {
   "codemirror_mode": {
    "name": "ipython",
    "version": 3
   },
   "file_extension": ".py",
   "mimetype": "text/x-python",
   "name": "python",
   "nbconvert_exporter": "python",
   "pygments_lexer": "ipython3",
   "version": "3.8.5"
  }
 },
 "nbformat": 4,
 "nbformat_minor": 4
}
